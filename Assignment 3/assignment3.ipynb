{
 "cells": [
  {
   "cell_type": "markdown",
   "metadata": {},
   "source": [
    "## Name: Nguyen Minh Huy Duong"
   ]
  },
  {
   "cell_type": "markdown",
   "metadata": {},
   "source": [
    "### Assignment 3"
   ]
  },
  {
   "cell_type": "code",
   "execution_count": 1,
   "metadata": {},
   "outputs": [],
   "source": [
    "# Importing the libraries\n",
    "import numpy as np\n",
    "import pandas as pd\n",
    "import matplotlib.pyplot as plt"
   ]
  },
  {
   "cell_type": "code",
   "execution_count": 2,
   "metadata": {},
   "outputs": [
    {
     "data": {
      "text/html": [
       "<div>\n",
       "<style scoped>\n",
       "    .dataframe tbody tr th:only-of-type {\n",
       "        vertical-align: middle;\n",
       "    }\n",
       "\n",
       "    .dataframe tbody tr th {\n",
       "        vertical-align: top;\n",
       "    }\n",
       "\n",
       "    .dataframe thead th {\n",
       "        text-align: right;\n",
       "    }\n",
       "</style>\n",
       "<table border=\"1\" class=\"dataframe\">\n",
       "  <thead>\n",
       "    <tr style=\"text-align: right;\">\n",
       "      <th></th>\n",
       "      <th>price</th>\n",
       "      <th>lotsize</th>\n",
       "      <th>bedrooms</th>\n",
       "      <th>bathrms</th>\n",
       "      <th>stories</th>\n",
       "      <th>driveway</th>\n",
       "      <th>recroom</th>\n",
       "      <th>fullbase</th>\n",
       "      <th>gashw</th>\n",
       "      <th>airco</th>\n",
       "      <th>garagepl</th>\n",
       "      <th>prefarea</th>\n",
       "    </tr>\n",
       "  </thead>\n",
       "  <tbody>\n",
       "    <tr>\n",
       "      <th>0</th>\n",
       "      <td>42000</td>\n",
       "      <td>5850</td>\n",
       "      <td>3</td>\n",
       "      <td>1</td>\n",
       "      <td>2</td>\n",
       "      <td>yes</td>\n",
       "      <td>no</td>\n",
       "      <td>yes</td>\n",
       "      <td>no</td>\n",
       "      <td>no</td>\n",
       "      <td>1</td>\n",
       "      <td>no</td>\n",
       "    </tr>\n",
       "    <tr>\n",
       "      <th>1</th>\n",
       "      <td>38500</td>\n",
       "      <td>4000</td>\n",
       "      <td>2</td>\n",
       "      <td>1</td>\n",
       "      <td>1</td>\n",
       "      <td>yes</td>\n",
       "      <td>no</td>\n",
       "      <td>no</td>\n",
       "      <td>no</td>\n",
       "      <td>no</td>\n",
       "      <td>0</td>\n",
       "      <td>no</td>\n",
       "    </tr>\n",
       "    <tr>\n",
       "      <th>2</th>\n",
       "      <td>49500</td>\n",
       "      <td>3060</td>\n",
       "      <td>3</td>\n",
       "      <td>1</td>\n",
       "      <td>1</td>\n",
       "      <td>yes</td>\n",
       "      <td>no</td>\n",
       "      <td>no</td>\n",
       "      <td>no</td>\n",
       "      <td>no</td>\n",
       "      <td>0</td>\n",
       "      <td>no</td>\n",
       "    </tr>\n",
       "    <tr>\n",
       "      <th>3</th>\n",
       "      <td>60500</td>\n",
       "      <td>6650</td>\n",
       "      <td>3</td>\n",
       "      <td>1</td>\n",
       "      <td>2</td>\n",
       "      <td>yes</td>\n",
       "      <td>yes</td>\n",
       "      <td>no</td>\n",
       "      <td>no</td>\n",
       "      <td>no</td>\n",
       "      <td>0</td>\n",
       "      <td>no</td>\n",
       "    </tr>\n",
       "    <tr>\n",
       "      <th>4</th>\n",
       "      <td>61000</td>\n",
       "      <td>6360</td>\n",
       "      <td>2</td>\n",
       "      <td>1</td>\n",
       "      <td>1</td>\n",
       "      <td>yes</td>\n",
       "      <td>no</td>\n",
       "      <td>no</td>\n",
       "      <td>no</td>\n",
       "      <td>no</td>\n",
       "      <td>0</td>\n",
       "      <td>no</td>\n",
       "    </tr>\n",
       "  </tbody>\n",
       "</table>\n",
       "</div>"
      ],
      "text/plain": [
       "   price  lotsize  bedrooms  bathrms  stories driveway recroom fullbase gashw  \\\n",
       "0  42000     5850         3        1        2      yes      no      yes    no   \n",
       "1  38500     4000         2        1        1      yes      no       no    no   \n",
       "2  49500     3060         3        1        1      yes      no       no    no   \n",
       "3  60500     6650         3        1        2      yes     yes       no    no   \n",
       "4  61000     6360         2        1        1      yes      no       no    no   \n",
       "\n",
       "  airco  garagepl prefarea  \n",
       "0    no         1       no  \n",
       "1    no         0       no  \n",
       "2    no         0       no  \n",
       "3    no         0       no  \n",
       "4    no         0       no  "
      ]
     },
     "execution_count": 2,
     "metadata": {},
     "output_type": "execute_result"
    }
   ],
   "source": [
    "# Importing the dataset\n",
    "dataset = pd.read_csv('housing.csv')\n",
    "dataset.head()"
   ]
  },
  {
   "cell_type": "code",
   "execution_count": 3,
   "metadata": {},
   "outputs": [
    {
     "name": "stdout",
     "output_type": "stream",
     "text": [
      "NA counts in training data:\n",
      "price       0\n",
      "lotsize     0\n",
      "bedrooms    0\n",
      "bathrms     0\n",
      "stories     0\n",
      "driveway    0\n",
      "recroom     0\n",
      "fullbase    0\n",
      "gashw       0\n",
      "airco       0\n",
      "garagepl    0\n",
      "prefarea    0\n",
      "dtype: int64\n"
     ]
    }
   ],
   "source": [
    "# Check for missing value\n",
    "na_counts = dataset.isna().sum()\n",
    "print(\"NA counts in training data:\")\n",
    "print(na_counts)"
   ]
  },
  {
   "cell_type": "code",
   "execution_count": 4,
   "metadata": {},
   "outputs": [],
   "source": [
    "# Extracting data\n",
    "X = dataset.drop(columns=['price'])\n",
    "y = dataset['price']  # Target variable"
   ]
  },
  {
   "cell_type": "code",
   "execution_count": 5,
   "metadata": {},
   "outputs": [
    {
     "name": "stderr",
     "output_type": "stream",
     "text": [
      "C:\\Users\\minhh\\AppData\\Local\\Temp\\ipykernel_7220\\1641500606.py:3: FutureWarning: Downcasting behavior in `replace` is deprecated and will be removed in a future version. To retain the old behavior, explicitly call `result.infer_objects(copy=False)`. To opt-in to the future behavior, set `pd.set_option('future.no_silent_downcasting', True)`\n",
      "  X[category_columns] = X[category_columns].replace({'yes': 1, 'no': 0})\n"
     ]
    },
    {
     "data": {
      "text/html": [
       "<div>\n",
       "<style scoped>\n",
       "    .dataframe tbody tr th:only-of-type {\n",
       "        vertical-align: middle;\n",
       "    }\n",
       "\n",
       "    .dataframe tbody tr th {\n",
       "        vertical-align: top;\n",
       "    }\n",
       "\n",
       "    .dataframe thead th {\n",
       "        text-align: right;\n",
       "    }\n",
       "</style>\n",
       "<table border=\"1\" class=\"dataframe\">\n",
       "  <thead>\n",
       "    <tr style=\"text-align: right;\">\n",
       "      <th></th>\n",
       "      <th>lotsize</th>\n",
       "      <th>bedrooms</th>\n",
       "      <th>bathrms</th>\n",
       "      <th>stories</th>\n",
       "      <th>driveway</th>\n",
       "      <th>recroom</th>\n",
       "      <th>fullbase</th>\n",
       "      <th>gashw</th>\n",
       "      <th>airco</th>\n",
       "      <th>garagepl</th>\n",
       "      <th>prefarea</th>\n",
       "    </tr>\n",
       "  </thead>\n",
       "  <tbody>\n",
       "    <tr>\n",
       "      <th>0</th>\n",
       "      <td>5850</td>\n",
       "      <td>3</td>\n",
       "      <td>1</td>\n",
       "      <td>2</td>\n",
       "      <td>1</td>\n",
       "      <td>0</td>\n",
       "      <td>1</td>\n",
       "      <td>0</td>\n",
       "      <td>0</td>\n",
       "      <td>1</td>\n",
       "      <td>0</td>\n",
       "    </tr>\n",
       "    <tr>\n",
       "      <th>1</th>\n",
       "      <td>4000</td>\n",
       "      <td>2</td>\n",
       "      <td>1</td>\n",
       "      <td>1</td>\n",
       "      <td>1</td>\n",
       "      <td>0</td>\n",
       "      <td>0</td>\n",
       "      <td>0</td>\n",
       "      <td>0</td>\n",
       "      <td>0</td>\n",
       "      <td>0</td>\n",
       "    </tr>\n",
       "    <tr>\n",
       "      <th>2</th>\n",
       "      <td>3060</td>\n",
       "      <td>3</td>\n",
       "      <td>1</td>\n",
       "      <td>1</td>\n",
       "      <td>1</td>\n",
       "      <td>0</td>\n",
       "      <td>0</td>\n",
       "      <td>0</td>\n",
       "      <td>0</td>\n",
       "      <td>0</td>\n",
       "      <td>0</td>\n",
       "    </tr>\n",
       "    <tr>\n",
       "      <th>3</th>\n",
       "      <td>6650</td>\n",
       "      <td>3</td>\n",
       "      <td>1</td>\n",
       "      <td>2</td>\n",
       "      <td>1</td>\n",
       "      <td>1</td>\n",
       "      <td>0</td>\n",
       "      <td>0</td>\n",
       "      <td>0</td>\n",
       "      <td>0</td>\n",
       "      <td>0</td>\n",
       "    </tr>\n",
       "    <tr>\n",
       "      <th>4</th>\n",
       "      <td>6360</td>\n",
       "      <td>2</td>\n",
       "      <td>1</td>\n",
       "      <td>1</td>\n",
       "      <td>1</td>\n",
       "      <td>0</td>\n",
       "      <td>0</td>\n",
       "      <td>0</td>\n",
       "      <td>0</td>\n",
       "      <td>0</td>\n",
       "      <td>0</td>\n",
       "    </tr>\n",
       "    <tr>\n",
       "      <th>...</th>\n",
       "      <td>...</td>\n",
       "      <td>...</td>\n",
       "      <td>...</td>\n",
       "      <td>...</td>\n",
       "      <td>...</td>\n",
       "      <td>...</td>\n",
       "      <td>...</td>\n",
       "      <td>...</td>\n",
       "      <td>...</td>\n",
       "      <td>...</td>\n",
       "      <td>...</td>\n",
       "    </tr>\n",
       "    <tr>\n",
       "      <th>541</th>\n",
       "      <td>4800</td>\n",
       "      <td>3</td>\n",
       "      <td>2</td>\n",
       "      <td>4</td>\n",
       "      <td>1</td>\n",
       "      <td>1</td>\n",
       "      <td>0</td>\n",
       "      <td>0</td>\n",
       "      <td>1</td>\n",
       "      <td>0</td>\n",
       "      <td>0</td>\n",
       "    </tr>\n",
       "    <tr>\n",
       "      <th>542</th>\n",
       "      <td>6000</td>\n",
       "      <td>3</td>\n",
       "      <td>2</td>\n",
       "      <td>4</td>\n",
       "      <td>1</td>\n",
       "      <td>0</td>\n",
       "      <td>0</td>\n",
       "      <td>0</td>\n",
       "      <td>1</td>\n",
       "      <td>0</td>\n",
       "      <td>0</td>\n",
       "    </tr>\n",
       "    <tr>\n",
       "      <th>543</th>\n",
       "      <td>6000</td>\n",
       "      <td>3</td>\n",
       "      <td>2</td>\n",
       "      <td>4</td>\n",
       "      <td>1</td>\n",
       "      <td>1</td>\n",
       "      <td>0</td>\n",
       "      <td>0</td>\n",
       "      <td>1</td>\n",
       "      <td>1</td>\n",
       "      <td>0</td>\n",
       "    </tr>\n",
       "    <tr>\n",
       "      <th>544</th>\n",
       "      <td>6000</td>\n",
       "      <td>3</td>\n",
       "      <td>2</td>\n",
       "      <td>2</td>\n",
       "      <td>1</td>\n",
       "      <td>1</td>\n",
       "      <td>0</td>\n",
       "      <td>0</td>\n",
       "      <td>1</td>\n",
       "      <td>1</td>\n",
       "      <td>0</td>\n",
       "    </tr>\n",
       "    <tr>\n",
       "      <th>545</th>\n",
       "      <td>6000</td>\n",
       "      <td>3</td>\n",
       "      <td>1</td>\n",
       "      <td>2</td>\n",
       "      <td>1</td>\n",
       "      <td>0</td>\n",
       "      <td>0</td>\n",
       "      <td>0</td>\n",
       "      <td>1</td>\n",
       "      <td>1</td>\n",
       "      <td>0</td>\n",
       "    </tr>\n",
       "  </tbody>\n",
       "</table>\n",
       "<p>546 rows × 11 columns</p>\n",
       "</div>"
      ],
      "text/plain": [
       "     lotsize  bedrooms  bathrms  stories  driveway  recroom  fullbase  gashw  \\\n",
       "0       5850         3        1        2         1        0         1      0   \n",
       "1       4000         2        1        1         1        0         0      0   \n",
       "2       3060         3        1        1         1        0         0      0   \n",
       "3       6650         3        1        2         1        1         0      0   \n",
       "4       6360         2        1        1         1        0         0      0   \n",
       "..       ...       ...      ...      ...       ...      ...       ...    ...   \n",
       "541     4800         3        2        4         1        1         0      0   \n",
       "542     6000         3        2        4         1        0         0      0   \n",
       "543     6000         3        2        4         1        1         0      0   \n",
       "544     6000         3        2        2         1        1         0      0   \n",
       "545     6000         3        1        2         1        0         0      0   \n",
       "\n",
       "     airco  garagepl  prefarea  \n",
       "0        0         1         0  \n",
       "1        0         0         0  \n",
       "2        0         0         0  \n",
       "3        0         0         0  \n",
       "4        0         0         0  \n",
       "..     ...       ...       ...  \n",
       "541      1         0         0  \n",
       "542      1         0         0  \n",
       "543      1         1         0  \n",
       "544      1         1         0  \n",
       "545      1         1         0  \n",
       "\n",
       "[546 rows x 11 columns]"
      ]
     },
     "execution_count": 5,
     "metadata": {},
     "output_type": "execute_result"
    }
   ],
   "source": [
    "# Convert yes/no column in to binary\n",
    "category_columns = ['driveway', 'recroom', 'fullbase', 'gashw', 'airco', 'prefarea']\n",
    "X[category_columns] = X[category_columns].replace({'yes': 1, 'no': 0})\n",
    "X"
   ]
  },
  {
   "cell_type": "markdown",
   "metadata": {},
   "source": [
    "### 1. Linear regression with gradient decent"
   ]
  },
  {
   "cell_type": "markdown",
   "metadata": {},
   "source": [
    "### 1.1"
   ]
  },
  {
   "cell_type": "code",
   "execution_count": 6,
   "metadata": {},
   "outputs": [],
   "source": [
    "def normalization(X: pd.DataFrame):\n",
    "    X_norm = (X - X.min()) / (X.max() - X.min())\n",
    "    return X_norm"
   ]
  },
  {
   "cell_type": "code",
   "execution_count": 7,
   "metadata": {},
   "outputs": [],
   "source": [
    "def calculate_J(X: np.ndarray, y: np.ndarray, weights: np.ndarray):\n",
    "    m = len(y)              # Number of Sample\n",
    "    y_pred = X.dot(weights)     # y^\n",
    "    J = (1/m) * np.sum((y_pred - y) ** 2)\n",
    "    return J"
   ]
  },
  {
   "cell_type": "code",
   "execution_count": 8,
   "metadata": {},
   "outputs": [],
   "source": [
    "def calculate_R2(y_pred, y):\n",
    "    # Calculate R-squared\n",
    "    ss_res = np.sum((y - y_pred) ** 2)\n",
    "    ss_tot = np.sum((y - y.mean()) ** 2)\n",
    "    r_squared = 1 - (ss_res / ss_tot)\n",
    "    return r_squared"
   ]
  },
  {
   "cell_type": "code",
   "execution_count": 9,
   "metadata": {},
   "outputs": [],
   "source": [
    "def gradient_descent(alpha, epochs, X: np.ndarray, y: np.ndarray, weights: np.ndarray):\n",
    "    m = len(y)\n",
    "    for epoch in range(0, epochs):\n",
    "        y_pred = X.dot(weights)\n",
    "        gradient = 2/m * (y_pred - y).T.dot(X) \n",
    "        weights -= alpha * gradient\n",
    "        if epoch < 10:\n",
    "            print(f\"Epoch number: {epoch + 1}\")\n",
    "            print(f\"Root Mean Square Error: {np.sqrt(calculate_J(X, y, weights))} \\n\")\n",
    "    return weights"
   ]
  },
  {
   "cell_type": "code",
   "execution_count": 10,
   "metadata": {},
   "outputs": [],
   "source": [
    "# normalize the dataset\n",
    "X_norm = normalization(X)\n",
    "# Add a column of ones to include intercept term\n",
    "X_norm = np.c_[np.ones(X_norm.shape[0]), X_norm]  # Adds a column of 1s for the bias term\n",
    "# y = y.values.reshape(-1, 1)"
   ]
  },
  {
   "cell_type": "code",
   "execution_count": 11,
   "metadata": {},
   "outputs": [
    {
     "name": "stdout",
     "output_type": "stream",
     "text": [
      "Epoch number: 1\n",
      "Root Mean Square Error: 26346.436498591705 \n",
      "\n",
      "Epoch number: 2\n",
      "Root Mean Square Error: 20208.558904892678 \n",
      "\n",
      "Epoch number: 3\n",
      "Root Mean Square Error: 19605.449992858295 \n",
      "\n",
      "Epoch number: 4\n",
      "Root Mean Square Error: 19404.80500547039 \n",
      "\n",
      "Epoch number: 5\n",
      "Root Mean Square Error: 19240.10671515424 \n",
      "\n",
      "Epoch number: 6\n",
      "Root Mean Square Error: 19087.92340693883 \n",
      "\n",
      "Epoch number: 7\n",
      "Root Mean Square Error: 18945.894916328194 \n",
      "\n",
      "Epoch number: 8\n",
      "Root Mean Square Error: 18813.029010673297 \n",
      "\n",
      "Epoch number: 9\n",
      "Root Mean Square Error: 18688.503024488506 \n",
      "\n",
      "Epoch number: 10\n",
      "Root Mean Square Error: 18571.58272819686 \n",
      "\n"
     ]
    }
   ],
   "source": [
    "weights = np.zeros(X_norm.shape[1])\n",
    "alpha = 0.15\n",
    "epochs = 10000\n",
    "optimum_weight = gradient_descent(alpha, epochs, X_norm, y, weights)\n",
    "\n",
    "# Make predictions on the original scale using optimized weights\n",
    "y_pred = X_norm.dot(optimum_weight)"
   ]
  },
  {
   "cell_type": "code",
   "execution_count": 12,
   "metadata": {},
   "outputs": [
    {
     "data": {
      "image/png": "[encoded data removed]",
      "text/plain": [
       "<Figure size 640x480 with 1 Axes>"
      ]
     },
     "metadata": {},
     "output_type": "display_data"
    }
   ],
   "source": [
    "# Plot Price vs Lot Size\n",
    "plt.scatter(dataset['lotsize'], y, color='blue',alpha=0.6, label='Original Prices')\n",
    "plt.scatter(dataset['lotsize'], y_pred, color='red', alpha=0.6, label='Predicted Prices')\n",
    "plt.xlabel('Lot Size')\n",
    "plt.ylabel('Price')\n",
    "plt.title('Price vs Lot Size')\n",
    "plt.legend()\n",
    "plt.show()"
   ]
  },
  {
   "cell_type": "code",
   "execution_count": 13,
   "metadata": {},
   "outputs": [
    {
     "name": "stdout",
     "output_type": "stream",
     "text": [
      "R Squared: 0.6731236206414506\n"
     ]
    },
    {
     "data": {
      "image/png": "[encoded data removed]",
      "text/plain": [
       "<Figure size 640x480 with 1 Axes>"
      ]
     },
     "metadata": {},
     "output_type": "display_data"
    }
   ],
   "source": [
    "# Calculate R^2 on the original scale and plot true vs predicted prices\n",
    "r2 = calculate_R2(y_pred, y)\n",
    "print(f\"R Squared: {r2}\")\n",
    "plt.scatter(y, y_pred, color='blue', alpha=0.5)\n",
    "plt.plot([min(y), max(y)], [min(y), max(y)], color='black', linestyle='--')\n",
    "plt.xlabel('True Price (y)')\n",
    "plt.ylabel('Predicted Price')\n",
    "plt.title(f'True Price vs Predicted Price (R^2 = {r2:.4f})')\n",
    "plt.show()"
   ]
  },
  {
   "cell_type": "markdown",
   "metadata": {},
   "source": [
    "### 1.2"
   ]
  },
  {
   "cell_type": "code",
   "execution_count": 14,
   "metadata": {},
   "outputs": [],
   "source": [
    "def calculate_J_part2(X: np.ndarray, y: np.ndarray, weights: np.ndarray):\n",
    "    m = len(y)                  # Number of Sample\n",
    "    y_pred = X.dot(weights)     # y^\n",
    "    error = y_pred - y\n",
    "    J = (1/m) * (error.T.dot(error))\n",
    "    return J"
   ]
  },
  {
   "cell_type": "code",
   "execution_count": 15,
   "metadata": {},
   "outputs": [],
   "source": [
    "def gradient_descent_part2(alpha, epochs, X: np.ndarray, y: np.ndarray, weights: np.ndarray):\n",
    "    m = len(y)\n",
    "    for epoch in range(0, epochs):\n",
    "        y_pred = X.dot(weights)\n",
    "        gradient = 2/m * X.T.dot(y_pred - y)\n",
    "        weights -= alpha * gradient\n",
    "        if epoch < 10:\n",
    "            print(f\"Epoch number: {epoch + 1}\")\n",
    "            print(f\"Root Mean Square Error: {np.sqrt(calculate_J_part2(X, y, weights))} \\n\")\n",
    "    return weights"
   ]
  },
  {
   "cell_type": "code",
   "execution_count": 16,
   "metadata": {},
   "outputs": [
    {
     "name": "stdout",
     "output_type": "stream",
     "text": [
      "Epoch number: 1\n",
      "Root Mean Square Error: 26346.436498591705 \n",
      "\n",
      "Epoch number: 2\n",
      "Root Mean Square Error: 20208.558904892674 \n",
      "\n",
      "Epoch number: 3\n",
      "Root Mean Square Error: 19605.449992858295 \n",
      "\n",
      "Epoch number: 4\n",
      "Root Mean Square Error: 19404.80500547039 \n",
      "\n",
      "Epoch number: 5\n",
      "Root Mean Square Error: 19240.106715154245 \n",
      "\n",
      "Epoch number: 6\n",
      "Root Mean Square Error: 19087.92340693883 \n",
      "\n",
      "Epoch number: 7\n",
      "Root Mean Square Error: 18945.894916328194 \n",
      "\n",
      "Epoch number: 8\n",
      "Root Mean Square Error: 18813.029010673297 \n",
      "\n",
      "Epoch number: 9\n",
      "Root Mean Square Error: 18688.503024488506 \n",
      "\n",
      "Epoch number: 10\n",
      "Root Mean Square Error: 18571.582728196863 \n",
      "\n"
     ]
    }
   ],
   "source": [
    "weights = np.zeros(X_norm.shape[1])\n",
    "alpha = 0.15\n",
    "epochs = 10000\n",
    "optimum_weight = gradient_descent_part2(alpha, epochs, X_norm, y, weights)\n",
    "\n",
    "# Make predictions on the original scale using optimized weights\n",
    "y_pred_part2 = X_norm.dot(optimum_weight)"
   ]
  },
  {
   "cell_type": "code",
   "execution_count": 17,
   "metadata": {},
   "outputs": [
    {
     "name": "stdout",
     "output_type": "stream",
     "text": [
      "R Squared: 0.6731236206414506\n"
     ]
    },
    {
     "data": {
      "image/png": "[encoded data removed]",
      "text/plain": [
       "<Figure size 640x480 with 1 Axes>"
      ]
     },
     "metadata": {},
     "output_type": "display_data"
    }
   ],
   "source": [
    "# Calculate R^2 on the original scale and plot true vs predicted prices\n",
    "r2 = calculate_R2(y_pred_part2, y)\n",
    "print(f\"R Squared: {r2}\")\n",
    "plt.scatter(y, y_pred_part2, color='blue', alpha=0.5)\n",
    "plt.plot([min(y), max(y)], [min(y), max(y)], color='black', linestyle='--')\n",
    "plt.xlabel('True Price (y)')\n",
    "plt.ylabel('Predicted Price')\n",
    "plt.title(f'True Price vs Predicted Price (R^2 = {r2:.4f})')\n",
    "plt.show()"
   ]
  },
  {
   "cell_type": "markdown",
   "metadata": {},
   "source": [
    "### 2. Binary classification with logistic regression"
   ]
  },
  {
   "cell_type": "code",
   "execution_count": 18,
   "metadata": {},
   "outputs": [],
   "source": [
    "import numpy as np \n",
    "import pandas as pd\n",
    "import matplotlib.pyplot as plt"
   ]
  },
  {
   "cell_type": "code",
   "execution_count": 19,
   "metadata": {},
   "outputs": [
    {
     "data": {
      "text/html": [
       "<div>\n",
       "<style scoped>\n",
       "    .dataframe tbody tr th:only-of-type {\n",
       "        vertical-align: middle;\n",
       "    }\n",
       "\n",
       "    .dataframe tbody tr th {\n",
       "        vertical-align: top;\n",
       "    }\n",
       "\n",
       "    .dataframe thead th {\n",
       "        text-align: right;\n",
       "    }\n",
       "</style>\n",
       "<table border=\"1\" class=\"dataframe\">\n",
       "  <thead>\n",
       "    <tr style=\"text-align: right;\">\n",
       "      <th></th>\n",
       "      <th>gender</th>\n",
       "      <th>age</th>\n",
       "      <th>education</th>\n",
       "      <th>currentSmoker</th>\n",
       "      <th>cigsPerDay</th>\n",
       "      <th>BPMeds</th>\n",
       "      <th>prevalentStroke</th>\n",
       "      <th>prevalentHyp</th>\n",
       "      <th>diabetes</th>\n",
       "      <th>totChol</th>\n",
       "      <th>sysBP</th>\n",
       "      <th>diaBP</th>\n",
       "      <th>BMI</th>\n",
       "      <th>heartRate</th>\n",
       "      <th>glucose</th>\n",
       "      <th>TenYearCHD</th>\n",
       "    </tr>\n",
       "  </thead>\n",
       "  <tbody>\n",
       "    <tr>\n",
       "      <th>0</th>\n",
       "      <td>1</td>\n",
       "      <td>63</td>\n",
       "      <td>1.0</td>\n",
       "      <td>0</td>\n",
       "      <td>0.0</td>\n",
       "      <td>0.0</td>\n",
       "      <td>0</td>\n",
       "      <td>1</td>\n",
       "      <td>0</td>\n",
       "      <td>190.0</td>\n",
       "      <td>148.0</td>\n",
       "      <td>90.0</td>\n",
       "      <td>27.13</td>\n",
       "      <td>72.0</td>\n",
       "      <td>86.0</td>\n",
       "      <td>0</td>\n",
       "    </tr>\n",
       "    <tr>\n",
       "      <th>1</th>\n",
       "      <td>1</td>\n",
       "      <td>45</td>\n",
       "      <td>3.0</td>\n",
       "      <td>0</td>\n",
       "      <td>0.0</td>\n",
       "      <td>0.0</td>\n",
       "      <td>0</td>\n",
       "      <td>0</td>\n",
       "      <td>0</td>\n",
       "      <td>162.0</td>\n",
       "      <td>125.0</td>\n",
       "      <td>89.0</td>\n",
       "      <td>27.98</td>\n",
       "      <td>85.0</td>\n",
       "      <td>83.0</td>\n",
       "      <td>0</td>\n",
       "    </tr>\n",
       "    <tr>\n",
       "      <th>2</th>\n",
       "      <td>0</td>\n",
       "      <td>51</td>\n",
       "      <td>1.0</td>\n",
       "      <td>1</td>\n",
       "      <td>2.0</td>\n",
       "      <td>0.0</td>\n",
       "      <td>0</td>\n",
       "      <td>0</td>\n",
       "      <td>0</td>\n",
       "      <td>261.0</td>\n",
       "      <td>127.0</td>\n",
       "      <td>81.0</td>\n",
       "      <td>20.24</td>\n",
       "      <td>75.0</td>\n",
       "      <td>96.0</td>\n",
       "      <td>0</td>\n",
       "    </tr>\n",
       "    <tr>\n",
       "      <th>3</th>\n",
       "      <td>1</td>\n",
       "      <td>45</td>\n",
       "      <td>3.0</td>\n",
       "      <td>1</td>\n",
       "      <td>30.0</td>\n",
       "      <td>0.0</td>\n",
       "      <td>0</td>\n",
       "      <td>0</td>\n",
       "      <td>0</td>\n",
       "      <td>250.0</td>\n",
       "      <td>126.0</td>\n",
       "      <td>89.5</td>\n",
       "      <td>28.68</td>\n",
       "      <td>75.0</td>\n",
       "      <td>92.0</td>\n",
       "      <td>0</td>\n",
       "    </tr>\n",
       "    <tr>\n",
       "      <th>4</th>\n",
       "      <td>0</td>\n",
       "      <td>45</td>\n",
       "      <td>2.0</td>\n",
       "      <td>1</td>\n",
       "      <td>3.0</td>\n",
       "      <td>0.0</td>\n",
       "      <td>0</td>\n",
       "      <td>0</td>\n",
       "      <td>0</td>\n",
       "      <td>250.0</td>\n",
       "      <td>130.0</td>\n",
       "      <td>80.0</td>\n",
       "      <td>20.24</td>\n",
       "      <td>90.0</td>\n",
       "      <td>86.0</td>\n",
       "      <td>0</td>\n",
       "    </tr>\n",
       "  </tbody>\n",
       "</table>\n",
       "</div>"
      ],
      "text/plain": [
       "   gender  age  education  currentSmoker  cigsPerDay  BPMeds  prevalentStroke  \\\n",
       "0       1   63        1.0              0         0.0     0.0                0   \n",
       "1       1   45        3.0              0         0.0     0.0                0   \n",
       "2       0   51        1.0              1         2.0     0.0                0   \n",
       "3       1   45        3.0              1        30.0     0.0                0   \n",
       "4       0   45        2.0              1         3.0     0.0                0   \n",
       "\n",
       "   prevalentHyp  diabetes  totChol  sysBP  diaBP    BMI  heartRate  glucose  \\\n",
       "0             1         0    190.0  148.0   90.0  27.13       72.0     86.0   \n",
       "1             0         0    162.0  125.0   89.0  27.98       85.0     83.0   \n",
       "2             0         0    261.0  127.0   81.0  20.24       75.0     96.0   \n",
       "3             0         0    250.0  126.0   89.5  28.68       75.0     92.0   \n",
       "4             0         0    250.0  130.0   80.0  20.24       90.0     86.0   \n",
       "\n",
       "   TenYearCHD  \n",
       "0           0  \n",
       "1           0  \n",
       "2           0  \n",
       "3           0  \n",
       "4           0  "
      ]
     },
     "execution_count": 19,
     "metadata": {},
     "output_type": "execute_result"
    }
   ],
   "source": [
    "dataset_train = pd.read_csv('heart_disease_train.csv')\n",
    "dataset_train.head()"
   ]
  },
  {
   "cell_type": "code",
   "execution_count": 20,
   "metadata": {},
   "outputs": [
    {
     "data": {
      "text/html": [
       "<div>\n",
       "<style scoped>\n",
       "    .dataframe tbody tr th:only-of-type {\n",
       "        vertical-align: middle;\n",
       "    }\n",
       "\n",
       "    .dataframe tbody tr th {\n",
       "        vertical-align: top;\n",
       "    }\n",
       "\n",
       "    .dataframe thead th {\n",
       "        text-align: right;\n",
       "    }\n",
       "</style>\n",
       "<table border=\"1\" class=\"dataframe\">\n",
       "  <thead>\n",
       "    <tr style=\"text-align: right;\">\n",
       "      <th></th>\n",
       "      <th>gender</th>\n",
       "      <th>age</th>\n",
       "      <th>education</th>\n",
       "      <th>currentSmoker</th>\n",
       "      <th>cigsPerDay</th>\n",
       "      <th>BPMeds</th>\n",
       "      <th>prevalentStroke</th>\n",
       "      <th>prevalentHyp</th>\n",
       "      <th>diabetes</th>\n",
       "      <th>totChol</th>\n",
       "      <th>sysBP</th>\n",
       "      <th>diaBP</th>\n",
       "      <th>BMI</th>\n",
       "      <th>heartRate</th>\n",
       "      <th>glucose</th>\n",
       "      <th>TenYearCHD</th>\n",
       "    </tr>\n",
       "  </thead>\n",
       "  <tbody>\n",
       "    <tr>\n",
       "      <th>0</th>\n",
       "      <td>0</td>\n",
       "      <td>56</td>\n",
       "      <td>1.0</td>\n",
       "      <td>0</td>\n",
       "      <td>0.0</td>\n",
       "      <td>0.0</td>\n",
       "      <td>0</td>\n",
       "      <td>1</td>\n",
       "      <td>1</td>\n",
       "      <td>273.0</td>\n",
       "      <td>136.0</td>\n",
       "      <td>80.0</td>\n",
       "      <td>27.73</td>\n",
       "      <td>90.0</td>\n",
       "      <td>210.0</td>\n",
       "      <td>1</td>\n",
       "    </tr>\n",
       "    <tr>\n",
       "      <th>1</th>\n",
       "      <td>0</td>\n",
       "      <td>46</td>\n",
       "      <td>2.0</td>\n",
       "      <td>0</td>\n",
       "      <td>0.0</td>\n",
       "      <td>0.0</td>\n",
       "      <td>0</td>\n",
       "      <td>0</td>\n",
       "      <td>0</td>\n",
       "      <td>250.0</td>\n",
       "      <td>121.0</td>\n",
       "      <td>81.0</td>\n",
       "      <td>28.73</td>\n",
       "      <td>95.0</td>\n",
       "      <td>76.0</td>\n",
       "      <td>0</td>\n",
       "    </tr>\n",
       "    <tr>\n",
       "      <th>2</th>\n",
       "      <td>0</td>\n",
       "      <td>52</td>\n",
       "      <td>1.0</td>\n",
       "      <td>0</td>\n",
       "      <td>0.0</td>\n",
       "      <td>0.0</td>\n",
       "      <td>0</td>\n",
       "      <td>0</td>\n",
       "      <td>0</td>\n",
       "      <td>275.0</td>\n",
       "      <td>112.0</td>\n",
       "      <td>71.0</td>\n",
       "      <td>25.68</td>\n",
       "      <td>80.0</td>\n",
       "      <td>NaN</td>\n",
       "      <td>0</td>\n",
       "    </tr>\n",
       "    <tr>\n",
       "      <th>3</th>\n",
       "      <td>0</td>\n",
       "      <td>46</td>\n",
       "      <td>3.0</td>\n",
       "      <td>1</td>\n",
       "      <td>23.0</td>\n",
       "      <td>0.0</td>\n",
       "      <td>0</td>\n",
       "      <td>0</td>\n",
       "      <td>0</td>\n",
       "      <td>285.0</td>\n",
       "      <td>130.0</td>\n",
       "      <td>84.0</td>\n",
       "      <td>23.10</td>\n",
       "      <td>85.0</td>\n",
       "      <td>85.0</td>\n",
       "      <td>0</td>\n",
       "    </tr>\n",
       "    <tr>\n",
       "      <th>4</th>\n",
       "      <td>1</td>\n",
       "      <td>69</td>\n",
       "      <td>1.0</td>\n",
       "      <td>1</td>\n",
       "      <td>1.0</td>\n",
       "      <td>0.0</td>\n",
       "      <td>0</td>\n",
       "      <td>0</td>\n",
       "      <td>0</td>\n",
       "      <td>245.0</td>\n",
       "      <td>123.0</td>\n",
       "      <td>77.0</td>\n",
       "      <td>26.58</td>\n",
       "      <td>70.0</td>\n",
       "      <td>81.0</td>\n",
       "      <td>1</td>\n",
       "    </tr>\n",
       "  </tbody>\n",
       "</table>\n",
       "</div>"
      ],
      "text/plain": [
       "   gender  age  education  currentSmoker  cigsPerDay  BPMeds  prevalentStroke  \\\n",
       "0       0   56        1.0              0         0.0     0.0                0   \n",
       "1       0   46        2.0              0         0.0     0.0                0   \n",
       "2       0   52        1.0              0         0.0     0.0                0   \n",
       "3       0   46        3.0              1        23.0     0.0                0   \n",
       "4       1   69        1.0              1         1.0     0.0                0   \n",
       "\n",
       "   prevalentHyp  diabetes  totChol  sysBP  diaBP    BMI  heartRate  glucose  \\\n",
       "0             1         1    273.0  136.0   80.0  27.73       90.0    210.0   \n",
       "1             0         0    250.0  121.0   81.0  28.73       95.0     76.0   \n",
       "2             0         0    275.0  112.0   71.0  25.68       80.0      NaN   \n",
       "3             0         0    285.0  130.0   84.0  23.10       85.0     85.0   \n",
       "4             0         0    245.0  123.0   77.0  26.58       70.0     81.0   \n",
       "\n",
       "   TenYearCHD  \n",
       "0           1  \n",
       "1           0  \n",
       "2           0  \n",
       "3           0  \n",
       "4           1  "
      ]
     },
     "execution_count": 20,
     "metadata": {},
     "output_type": "execute_result"
    }
   ],
   "source": [
    "dataset_test = pd.read_csv('heart_disease_test.csv')\n",
    "dataset_test.head()"
   ]
  },
  {
   "cell_type": "code",
   "execution_count": 21,
   "metadata": {},
   "outputs": [
    {
     "name": "stdout",
     "output_type": "stream",
     "text": [
      "NA counts in training data:\n",
      "gender               0\n",
      "age                  0\n",
      "education           84\n",
      "currentSmoker        0\n",
      "cigsPerDay          25\n",
      "BPMeds              42\n",
      "prevalentStroke      0\n",
      "prevalentHyp         0\n",
      "diabetes             0\n",
      "totChol             44\n",
      "sysBP                0\n",
      "diaBP                0\n",
      "BMI                 16\n",
      "heartRate            1\n",
      "glucose            315\n",
      "TenYearCHD           0\n",
      "dtype: int64\n"
     ]
    }
   ],
   "source": [
    "# Count of NA values in each column of the training dataset\n",
    "na_counts_train = dataset_train.isna().sum()\n",
    "print(\"NA counts in training data:\")\n",
    "print(na_counts_train)"
   ]
  },
  {
   "cell_type": "code",
   "execution_count": 22,
   "metadata": {},
   "outputs": [
    {
     "name": "stdout",
     "output_type": "stream",
     "text": [
      "NA counts in training data:\n",
      "gender              0\n",
      "age                 0\n",
      "education          21\n",
      "currentSmoker       0\n",
      "cigsPerDay          4\n",
      "BPMeds             11\n",
      "prevalentStroke     0\n",
      "prevalentHyp        0\n",
      "diabetes            0\n",
      "totChol             6\n",
      "sysBP               0\n",
      "diaBP               0\n",
      "BMI                 3\n",
      "heartRate           0\n",
      "glucose            73\n",
      "TenYearCHD          0\n",
      "dtype: int64\n"
     ]
    }
   ],
   "source": [
    "# Count of NA values in each column of the training dataset\n",
    "na_counts_test = dataset_test.isna().sum()\n",
    "print(\"NA counts in training data:\")\n",
    "print(na_counts_test)"
   ]
  },
  {
   "cell_type": "code",
   "execution_count": 23,
   "metadata": {},
   "outputs": [
    {
     "name": "stdout",
     "output_type": "stream",
     "text": [
      "NA counts in training data:\n",
      "gender             0\n",
      "age                0\n",
      "education          0\n",
      "currentSmoker      0\n",
      "cigsPerDay         0\n",
      "BPMeds             0\n",
      "prevalentStroke    0\n",
      "prevalentHyp       0\n",
      "diabetes           0\n",
      "totChol            0\n",
      "sysBP              0\n",
      "diaBP              0\n",
      "BMI                0\n",
      "heartRate          0\n",
      "glucose            0\n",
      "TenYearCHD         0\n",
      "dtype: int64\n"
     ]
    }
   ],
   "source": [
    "dataset_train = dataset_train.fillna(dataset_train.mean())\n",
    "# Count of NA values in each column of the training dataset\n",
    "na_counts_train = dataset_train.isna().sum()\n",
    "print(\"NA counts in training data:\")\n",
    "print(na_counts_train)"
   ]
  },
  {
   "cell_type": "code",
   "execution_count": 24,
   "metadata": {},
   "outputs": [
    {
     "name": "stdout",
     "output_type": "stream",
     "text": [
      "NA counts in test data:\n",
      "gender             0\n",
      "age                0\n",
      "education          0\n",
      "currentSmoker      0\n",
      "cigsPerDay         0\n",
      "BPMeds             0\n",
      "prevalentStroke    0\n",
      "prevalentHyp       0\n",
      "diabetes           0\n",
      "totChol            0\n",
      "sysBP              0\n",
      "diaBP              0\n",
      "BMI                0\n",
      "heartRate          0\n",
      "glucose            0\n",
      "TenYearCHD         0\n",
      "dtype: int64\n"
     ]
    }
   ],
   "source": [
    "# use the train set to fillout the missing data for test set\n",
    "dataset_test = dataset_test.fillna(dataset_train.mean())\n",
    "# Count of NA values in each column of the training dataset\n",
    "na_counts_test = dataset_test.isna().sum()\n",
    "print(\"NA counts in test data:\")\n",
    "print(na_counts_test)"
   ]
  },
  {
   "cell_type": "code",
   "execution_count": 25,
   "metadata": {},
   "outputs": [],
   "source": [
    "def sigmoid(z):\n",
    "    return 1 / (1 + np.exp(-z))"
   ]
  },
  {
   "cell_type": "code",
   "execution_count": 26,
   "metadata": {},
   "outputs": [],
   "source": [
    "def initialize_weights(n_features):\n",
    "    return np.zeros(n_features)"
   ]
  },
  {
   "cell_type": "code",
   "execution_count": 27,
   "metadata": {},
   "outputs": [],
   "source": [
    "def calculate_J_logistic(X: np.ndarray, y: np.ndarray, weights: np.ndarray):\n",
    "    m = len(y)\n",
    "    y_pred = sigmoid(X.dot(weights))\n",
    "\n",
    "    # Clip predictions to avoid log(0)\n",
    "    epsilon = 1e-10  # Small constant to avoid log(0)\n",
    "    y_pred = np.clip(y_pred, epsilon, 1 - epsilon)\n",
    "\n",
    "    J = (-1/m) * (np.sum(y*np.log(y_pred) + (1-y)*np.log(1-y_pred)))\n",
    "    return J"
   ]
  },
  {
   "cell_type": "code",
   "execution_count": 28,
   "metadata": {},
   "outputs": [],
   "source": [
    "def predict(X, weights, threshold=0.5):\n",
    "    z = X.dot(weights)\n",
    "    y_pred = sigmoid(z)\n",
    "    return (y_pred >= threshold).astype(int)"
   ]
  },
  {
   "cell_type": "code",
   "execution_count": 29,
   "metadata": {},
   "outputs": [],
   "source": [
    "def confusion_matrix(y_true, y_pred):\n",
    "    TP = np.sum((y_true == 1) & (y_pred == 1)) # True Possitive\n",
    "    TN = np.sum((y_true == 0) & (y_pred == 0)) # True Negative\n",
    "    FP = np.sum((y_true == 0) & (y_pred == 1)) # False Possitive\n",
    "    FN = np.sum((y_true == 1) & (y_pred == 0)) # False Negative\n",
    "    return np.array([[TP, FN], [FP, TN]])"
   ]
  },
  {
   "cell_type": "code",
   "execution_count": 30,
   "metadata": {},
   "outputs": [],
   "source": [
    "def accuracy(cm):\n",
    "    return (cm[0,0] + cm[1, 1]) / np.sum(cm)"
   ]
  },
  {
   "cell_type": "code",
   "execution_count": 31,
   "metadata": {},
   "outputs": [],
   "source": [
    "def precision(cm):\n",
    "    return cm[0,0] / (cm[0,0] + cm[1,0])"
   ]
  },
  {
   "cell_type": "code",
   "execution_count": 32,
   "metadata": {},
   "outputs": [],
   "source": [
    "def recall(cm):\n",
    "    return cm[0,0] / (cm[0,0] + cm[0,1])"
   ]
  },
  {
   "cell_type": "code",
   "execution_count": 33,
   "metadata": {},
   "outputs": [],
   "source": [
    "def evaluate_model(y, y_pred):\n",
    "    cm = confusion_matrix(y, y_pred)\n",
    "\n",
    "    print(\"Training Confusion Matrix:\\n\", cm)\n",
    "    print(f\"Training Accuracy: {accuracy(cm)}\")\n",
    "    print(f\"Training Precision: {precision(cm)}\")\n",
    "    print(f\"Training Recall: {recall(cm)}\")"
   ]
  },
  {
   "cell_type": "code",
   "execution_count": 34,
   "metadata": {},
   "outputs": [],
   "source": [
    "def gradient_descent_3(alpha, X: np.ndarray, y: np.ndarray, y_pred:np.ndarray, weights: np.ndarray):\n",
    "    m = len(y)\n",
    "    gradient = (1/m) * X.T.dot(y_pred - y)\n",
    "    weights -= alpha * gradient\n",
    "    return weights"
   ]
  },
  {
   "cell_type": "code",
   "execution_count": 35,
   "metadata": {},
   "outputs": [],
   "source": [
    "def train_logistic_regression(X, y, alpha, epochs):\n",
    "    n_features = X.shape[1]\n",
    "    weights = initialize_weights(n_features)\n",
    "    for epoch in range(epochs):\n",
    "        # Compute prediction\n",
    "        z = X.dot(weights)\n",
    "        y_pred = sigmoid(z)\n",
    "\n",
    "        # update weights\n",
    "        weights = gradient_descent_3(alpha, X, y, y_pred, weights)\n",
    "        if epoch < 10:\n",
    "            print(f\"Cost at epoch {epoch + 1}: {calculate_J_logistic(X, y, weights)}\")\n",
    "    return weights"
   ]
  },
  {
   "cell_type": "code",
   "execution_count": 36,
   "metadata": {},
   "outputs": [],
   "source": [
    "X_train = dataset_train.drop(columns=['TenYearCHD'])\n",
    "y_train = dataset_train['TenYearCHD']"
   ]
  },
  {
   "cell_type": "code",
   "execution_count": 37,
   "metadata": {},
   "outputs": [],
   "source": [
    "X_test = dataset_test.drop(columns=['TenYearCHD'])\n",
    "y_test = dataset_test['TenYearCHD']"
   ]
  },
  {
   "cell_type": "code",
   "execution_count": 38,
   "metadata": {},
   "outputs": [],
   "source": [
    "mean = X_train.mean()\n",
    "std = X_train.std()"
   ]
  },
  {
   "cell_type": "code",
   "execution_count": 39,
   "metadata": {},
   "outputs": [],
   "source": [
    "# Normalization\n",
    "X_norm_train = (X_train - mean) / std\n",
    "X_norm_train = np.c_[np.ones(X_norm_train.shape[0]), X_norm_train]  # Adds a column of 1s for the bias term\n"
   ]
  },
  {
   "cell_type": "code",
   "execution_count": 40,
   "metadata": {},
   "outputs": [],
   "source": [
    "# Use the mean and std of train set to normalize the test set\n",
    "X_norm_test = (X_test - mean) /std\n",
    "X_norm_test = np.c_[np.ones(X_norm_test.shape[0]), X_norm_test]  # Adds a column of 1s for the bias term"
   ]
  },
  {
   "cell_type": "code",
   "execution_count": 41,
   "metadata": {},
   "outputs": [
    {
     "name": "stdout",
     "output_type": "stream",
     "text": [
      "Cost at epoch 1: 0.6787618021602292\n",
      "Cost at epoch 2: 0.6652771053763932\n",
      "Cost at epoch 3: 0.6526187846648395\n",
      "Cost at epoch 4: 0.6407198033813326\n",
      "Cost at epoch 5: 0.6295197327990721\n",
      "Cost at epoch 6: 0.6189641033952429\n",
      "Cost at epoch 7: 0.6090037885297821\n",
      "Cost at epoch 8: 0.5995944322030614\n",
      "Cost at epoch 9: 0.5906959265439107\n",
      "Cost at epoch 10: 0.5822719405499424\n"
     ]
    }
   ],
   "source": [
    "alpha = 0.1\n",
    "epochs = 10\n",
    "optimum_weight = train_logistic_regression(X_norm_train, y_train, alpha, epochs)"
   ]
  },
  {
   "cell_type": "code",
   "execution_count": 42,
   "metadata": {},
   "outputs": [
    {
     "name": "stdout",
     "output_type": "stream",
     "text": [
      "Training Confusion Matrix:\n",
      " [[  96  420]\n",
      " [ 118 2756]]\n",
      "Training Accuracy: 0.8412979351032448\n",
      "Training Precision: 0.4485981308411215\n",
      "Training Recall: 0.18604651162790697\n"
     ]
    }
   ],
   "source": [
    "y_train_pred = predict(X_norm_train, optimum_weight, threshold=0.5)\n",
    "evaluate_model(y_train, y_train_pred)"
   ]
  },
  {
   "cell_type": "code",
   "execution_count": 43,
   "metadata": {},
   "outputs": [
    {
     "name": "stdout",
     "output_type": "stream",
     "text": [
      "Training Confusion Matrix:\n",
      " [[ 23 105]\n",
      " [ 30 690]]\n",
      "Training Accuracy: 0.8408018867924528\n",
      "Training Precision: 0.4339622641509434\n",
      "Training Recall: 0.1796875\n"
     ]
    }
   ],
   "source": [
    "y_test_pred = predict(X_norm_test, optimum_weight, threshold=0.5)\n",
    "evaluate_model(y_test, y_test_pred)"
   ]
  },
  {
   "cell_type": "code",
   "execution_count": null,
   "metadata": {},
   "outputs": [],
   "source": []
  },
  {
   "cell_type": "code",
   "execution_count": null,
   "metadata": {},
   "outputs": [],
   "source": []
  }
 ],
 "metadata": {
  "kernelspec": {
   "display_name": "Python 3",
   "language": "python",
   "name": "python3"
  },
  "language_info": {
   "codemirror_mode": {
    "name": "ipython",
    "version": 3
   },
   "file_extension": ".py",
   "mimetype": "text/x-python",
   "name": "python",
   "nbconvert_exporter": "python",
   "pygments_lexer": "ipython3",
   "version": "3.12.3"
  }
 },
 "nbformat": 4,
 "nbformat_minor": 2
}
